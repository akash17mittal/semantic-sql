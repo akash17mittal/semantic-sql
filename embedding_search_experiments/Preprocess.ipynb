{
 "cells": [
  {
   "cell_type": "code",
   "execution_count": 1,
   "id": "a820ab4c",
   "metadata": {},
   "outputs": [],
   "source": [
    "import pandas as pd"
   ]
  },
  {
   "cell_type": "code",
   "execution_count": 6,
   "id": "4b3992e9",
   "metadata": {},
   "outputs": [],
   "source": [
    "d = pd.read_csv(\"./instances_train2017.csv\").sort_values(\"id\")"
   ]
  },
  {
   "cell_type": "code",
   "execution_count": 13,
   "id": "47016376",
   "metadata": {},
   "outputs": [],
   "source": [
    "counts = []\n",
    "prev = -1\n",
    "count = 0\n",
    "for ind, row in d.iterrows():\n",
    "    if row[\"id\"]!=prev:\n",
    "        count = 0\n",
    "        prev = row[\"id\"]\n",
    "    count += 1\n",
    "    counts.append(count)"
   ]
  },
  {
   "cell_type": "code",
   "execution_count": 14,
   "id": "3b3fd81c",
   "metadata": {},
   "outputs": [],
   "source": [
    "d[\"object_id\"] = counts"
   ]
  },
  {
   "cell_type": "code",
   "execution_count": 16,
   "id": "1bd6361b",
   "metadata": {},
   "outputs": [],
   "source": [
    "d.to_csv(\"objects.csv\", index=False)"
   ]
  },
  {
   "cell_type": "code",
   "execution_count": null,
   "id": "63e1baf8",
   "metadata": {},
   "outputs": [],
   "source": []
  }
 ],
 "metadata": {
  "kernelspec": {
   "display_name": "Python 3 (ipykernel)",
   "language": "python",
   "name": "python3"
  },
  "language_info": {
   "codemirror_mode": {
    "name": "ipython",
    "version": 3
   },
   "file_extension": ".py",
   "mimetype": "text/x-python",
   "name": "python",
   "nbconvert_exporter": "python",
   "pygments_lexer": "ipython3",
   "version": "3.8.10"
  }
 },
 "nbformat": 4,
 "nbformat_minor": 5
}
